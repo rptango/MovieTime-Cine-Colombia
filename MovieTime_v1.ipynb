{
 "cells": [
  {
   "cell_type": "markdown",
   "metadata": {},
   "source": [
    "![RP Tango](./Tango_Management_logo.png \"RP Tango\")"
   ]
  },
  {
   "cell_type": "markdown",
   "metadata": {},
   "source": [
    "***\n",
    "# Movie Time 1.0a\n",
    "#### Web Scrap project to gather Cine Colombia movies on display and add IMDB Rating.\n",
    "\n",
    "IMDB Rating Gathered from http://www.omdbapi.com/\n",
    "\n",
    "***"
   ]
  },
  {
   "cell_type": "code",
   "execution_count": 1,
   "metadata": {},
   "outputs": [],
   "source": [
    "import pandas as pd\n",
    "import requests\n",
    "import json\n",
    "from bs4 import BeautifulSoup\n",
    "import subprocess\n",
    "import cfscrape"
   ]
  },
  {
   "cell_type": "code",
   "execution_count": 2,
   "metadata": {},
   "outputs": [],
   "source": [
    "#Variables Globales\n",
    "Cartelera = []\n",
    "Cartelera.append(['Title', 'Year', 'Genre', 'imdbRating', 'Plot', 'Poster'])\n",
    "MovieIndex=0\n",
    "CarteleraExcel=pd.DataFrame({})"
   ]
  },
  {
   "cell_type": "code",
   "execution_count": 3,
   "metadata": {},
   "outputs": [],
   "source": [
    "def getmovie(MovieName):\n",
    "    \"\"\"\n",
    "    Function to retrieve IMDB Movie Information\n",
    "    This Function is based on http://www.omdbapi.com/\n",
    "    \"\"\"\n",
    "    APIkey=\"&apikey=67facf11\" #use your unique API Key\n",
    "    imdbQuery=\"http://www.omdbapi.com/?t=\"\n",
    "    ApiCall_imdb=imdbQuery+MovieName+APIkey\n",
    "    imdb_get = requests.get(ApiCall_imdb)\n",
    "    movie_json = imdb_get.json()\n",
    "    imdb_Error = \"Movie not found!\"\n",
    "    if len(movie_json)>2 :\n",
    "        imdb_Title = movie_json['Title']\n",
    "        imdb_Year=movie_json['Year']\n",
    "        imdb_Genre=movie_json['Genre']\n",
    "        imdb_Rating=movie_json['imdbRating']\n",
    "        imdb_plot=movie_json['Plot']\n",
    "        MovieBanner=movie_json['Poster']\n",
    "        allInfo=[]\n",
    "        allInfo=[imdb_Title,imdb_Year,imdb_Genre,imdb_Rating,imdb_plot,MovieBanner]\n",
    "        return allInfo\n",
    "    else:\n",
    "        return imdb_Error\n",
    "#getmovie(\"Spider-Man: Far from Home\")"
   ]
  },
  {
   "cell_type": "code",
   "execution_count": 4,
   "metadata": {},
   "outputs": [],
   "source": [
    "urlpage =  'https://www.cinecolombia.com/cartelera/bogota'\n",
    "scraper = cfscrape.create_scraper()\n",
    "soup=BeautifulSoup(scraper.get(urlpage).content)\n",
    "links=soup.find_all('h3',attrs={'class':'titulo_pelicula_typo01'}) # Obtengo Listado de todos los URL's"
   ]
  },
  {
   "cell_type": "code",
   "execution_count": 5,
   "metadata": {
    "scrolled": true
   },
   "outputs": [],
   "source": [
    "for link in links:    \n",
    "    if len(link) == 0: \n",
    "        continue\n",
    "    movielink=links[MovieIndex].find('a').get('href') # Recorro Links\n",
    "    InnerSoup=BeautifulSoup(scraper.get(movielink).content) # Scrape URL Secundario\n",
    "    OriginalName=InnerSoup.find(attrs={'class':'field field-name-field-titulo-original'}).getText()\n",
    "    OriginalName = OriginalName.strip('Título original: ').strip('&nbsp;') #Obtengo Nombre Pelicula en Ingles\n",
    "    FullDescription=getmovie(OriginalName) # Query a IMDB Api\n",
    "    Cartelera.append(FullDescription)\n",
    "    MovieIndex+=1\n",
    "    \n",
    "dataCartelera=pd.DataFrame(Cartelera)\n",
    "dataCartelera.to_excel (r'./Cartelera.xlsx', header=False,index = False, sheet_name='CineColombia')"
   ]
  },
  {
   "cell_type": "code",
   "execution_count": null,
   "metadata": {},
   "outputs": [],
   "source": [
    "## ---------- EJEMPLO  sin CFSCRAPER, CF DDOS detecta el intento de scrape y bloquea ----\n",
    "##  <div class=\"cf-browser-verification cf-im-under-attack\">\n",
    "# urlpage =  'https://www.cinecolombia.com/cartelera/bogota'\n",
    "# user_agent = {\"User-Agent\":\"Mozilla/5.0 (Windows NT 6.1) AppleWebKit/537.2 (KHTML, like Gecko) Chrome/22.0.1216.0 Safari/537.2\"}\n",
    "# Ltable = requests.get(urlpage,timeout=6,allow_redirects=False,headers=user_agent)\n",
    "# time.sleep(1)\n",
    "# html_doc = Ltable.text\n",
    "# soupfake = BeautifulSoup(html_doc)\n",
    "# print(soupfake)"
   ]
  }
 ],
 "metadata": {
  "kernelspec": {
   "display_name": "Python 3",
   "language": "python",
   "name": "python3"
  },
  "language_info": {
   "codemirror_mode": {
    "name": "ipython",
    "version": 3
   },
   "file_extension": ".py",
   "mimetype": "text/x-python",
   "name": "python",
   "nbconvert_exporter": "python",
   "pygments_lexer": "ipython3",
   "version": "3.6.6"
  }
 },
 "nbformat": 4,
 "nbformat_minor": 2
}
